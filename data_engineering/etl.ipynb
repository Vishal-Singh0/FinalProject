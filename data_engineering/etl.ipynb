{
 "cells": [
  {
   "cell_type": "code",
   "execution_count": 1,
   "metadata": {},
   "outputs": [
    {
     "name": "stdout",
     "output_type": "stream",
     "text": [
      "Requirement already satisfied: pandas in c:\\users\\admin\\appdata\\local\\programs\\python\\python312\\lib\\site-packages (2.2.2)\n",
      "Requirement already satisfied: numpy>=1.26.0 in c:\\users\\admin\\appdata\\local\\programs\\python\\python312\\lib\\site-packages (from pandas) (2.0.1)\n",
      "Requirement already satisfied: python-dateutil>=2.8.2 in c:\\users\\admin\\appdata\\roaming\\python\\python312\\site-packages (from pandas) (2.9.0.post0)\n",
      "Requirement already satisfied: pytz>=2020.1 in c:\\users\\admin\\appdata\\local\\programs\\python\\python312\\lib\\site-packages (from pandas) (2024.1)\n",
      "Requirement already satisfied: tzdata>=2022.7 in c:\\users\\admin\\appdata\\local\\programs\\python\\python312\\lib\\site-packages (from pandas) (2024.1)\n",
      "Requirement already satisfied: six>=1.5 in c:\\users\\admin\\appdata\\roaming\\python\\python312\\site-packages (from python-dateutil>=2.8.2->pandas) (1.16.0)\n",
      "Note: you may need to restart the kernel to use updated packages.\n"
     ]
    }
   ],
   "source": [
    "%pip install pandas"
   ]
  },
  {
   "cell_type": "code",
   "execution_count": 2,
   "metadata": {},
   "outputs": [
    {
     "name": "stdout",
     "output_type": "stream",
     "text": [
      "   id                 title                          description  duration  \\\n",
      "0   1       Cloud Computing       Build modern web applications.         8   \n",
      "1   2       Web Development     Learn the basics of programming.        42   \n",
      "2   3  Intro to Programming     Learn the basics of programming.        31   \n",
      "3   4       Cloud Computing      Dive deep into data structures.        84   \n",
      "4   5       Data Structures  Introduction to cloud technologies.        72   \n",
      "\n",
      "     difficulty  rating            domain  \n",
      "0      advanced     3.3      Data Science  \n",
      "1      beginner     3.7   Web Development  \n",
      "2      beginner     1.0  Computer Science  \n",
      "3      advanced     1.6  Computer Science  \n",
      "4  intermediate     3.8   Cloud Computing  \n",
      "   id  user_id  enrollment_id  score grade  progress  certificate_earned\n",
      "0   1       39             15     73     D        24               False\n",
      "1   2       80             92     60     A        92                True\n",
      "2   3       48             44     68     D         2                True\n",
      "3   4       43             72     61     B        34               False\n",
      "4   5       10              3     57     B        66               False\n",
      "   id  user_id  course_id enrollment_date completion_date\n",
      "0   1       19         90      2024-06-26      2024-07-15\n",
      "1   2        1         58      2024-09-21      2024-09-21\n",
      "2   3       89         47      2024-08-14      2025-01-25\n",
      "3   4       38         55      2023-11-29             NaN\n",
      "4   5       69          3      2024-06-07      2024-07-03\n",
      "   id            name                      email  password  role\n",
      "0   5        John Doe        johndoe@example.com  1234@Bcd  user\n",
      "1   6      Jane Smith      janesmith@example.com  1234@Bcd  user\n",
      "2   7     Bob Johnson     bobjohnson@example.com  1234@Bcd  user\n",
      "3   8  Alice Williams  alicewilliams@example.com  1234@Bcd  user\n",
      "4   9   Charlie Brown   charliebrown@example.com  1234@Bcd  user\n",
      "   id            domain            title  \\\n",
      "0   1   Web Development  Learning Path 1   \n",
      "1   2      Data Science  Learning Path 2   \n",
      "2   3  Machine Learning  Learning Path 3   \n",
      "3   4     Cybersecurity  Learning Path 4   \n",
      "4   5   Cloud Computing  Learning Path 5   \n",
      "\n",
      "                                         description    courses  duration0  \\\n",
      "0  Description for learning path 1. This path inc...  1,2,3,4,5         10   \n",
      "1  Description for learning path 2. This path inc...  1,2,3,4,5         10   \n",
      "2  Description for learning path 3. This path inc...      2,3,5         10   \n",
      "3  Description for learning path 4. This path inc...      2,4,5         10   \n",
      "4  Description for learning path 5. This path inc...      1,2,3         10   \n",
      "\n",
      "     difficulty                created_at                updated_at  \n",
      "0      beginner  2024-10-07T12:00:00.000Z  2024-10-07T12:00:00.000Z  \n",
      "1  intermediate  2024-10-07T12:00:00.000Z  2024-10-07T12:00:00.000Z  \n",
      "2      advanced  2024-10-07T12:00:00.000Z  2024-10-07T12:00:00.000Z  \n",
      "3      beginner  2024-10-07T12:00:00.000Z  2024-10-07T12:00:00.000Z  \n",
      "4  intermediate  2024-10-07T12:00:00.000Z  2024-10-07T12:00:00.000Z  \n"
     ]
    }
   ],
   "source": [
    "import pandas as pd\n",
    "\n",
    "# Load CSV files into DataFrames\n",
    "courses_df = pd.read_csv('courses.csv')\n",
    "performance_df = pd.read_csv('performance.csv')\n",
    "enrollment_df = pd.read_csv('enrollment.csv')\n",
    "users_df = pd.read_csv('users.csv')\n",
    "learning_paths_df = pd.read_csv('learningPath.csv')\n",
    "\n",
    "# Preview loaded data\n",
    "print(courses_df.head())\n",
    "print(performance_df.head())\n",
    "print(enrollment_df.head())\n",
    "print(users_df.head())\n",
    "print(learning_paths_df.head())\n"
   ]
  },
  {
   "cell_type": "code",
   "execution_count": 4,
   "metadata": {},
   "outputs": [
    {
     "name": "stdout",
     "output_type": "stream",
     "text": [
      "<class 'pandas.core.frame.DataFrame'>\n",
      "RangeIndex: 100 entries, 0 to 99\n",
      "Data columns (total 7 columns):\n",
      " #   Column       Non-Null Count  Dtype  \n",
      "---  ------       --------------  -----  \n",
      " 0   id           100 non-null    int64  \n",
      " 1   title        100 non-null    object \n",
      " 2   description  100 non-null    object \n",
      " 3   duration     100 non-null    int64  \n",
      " 4   difficulty   100 non-null    object \n",
      " 5   rating       100 non-null    float64\n",
      " 6   domain       100 non-null    object \n",
      "dtypes: float64(1), int64(2), object(4)\n",
      "memory usage: 5.6+ KB\n",
      "None\n"
     ]
    }
   ],
   "source": [
    "# Remove duplicates\n",
    "courses_df.drop_duplicates(inplace=True)\n",
    "performance_df.drop_duplicates(inplace=True)\n",
    "enrollment_df.drop_duplicates(inplace=True)\n",
    "users_df.drop_duplicates(inplace=True)\n",
    "learning_paths_df.drop_duplicates(inplace=True)\n",
    "\n",
    "# Handle missing values (basic example)\n",
    "courses_df.fillna('Unknown', inplace=True)\n",
    "performance_df.fillna(0, inplace=True)  # assuming 0 for missing scores/progress\n",
    "# enrollment_df['completion_date'].fillna('Incomplete', inplace=True)\n",
    "\n",
    "# Standardize string formats\n",
    "courses_df['domain'] = courses_df['domain'].str.title()\n",
    "learning_paths_df['domain'] = learning_paths_df['domain'].str.title()\n",
    "\n",
    "# Example: Preview cleaned data\n",
    "print(courses_df.info())\n"
   ]
  },
  {
   "cell_type": "code",
   "execution_count": 5,
   "metadata": {},
   "outputs": [
    {
     "name": "stdout",
     "output_type": "stream",
     "text": [
      "   id_x  user_id  course_id enrollment_date completion_date  id_y  \\\n",
      "0     1       19         90      2024-06-26      2024-07-15    19   \n",
      "1     4       38         55      2023-11-29      Incomplete    38   \n",
      "2     6       14         42      2023-10-29      2023-12-16    14   \n",
      "3     8       44         24      2024-08-03      Incomplete    44   \n",
      "4     9       53         56      2024-06-12      Incomplete    53   \n",
      "\n",
      "              name                       email  password  role  id  \\\n",
      "0         Mia Wong         miawong@example.com  1234@Bcd  user  90   \n",
      "1  Frank Underwood  frankunderwood@example.com  1234@Bcd  user  55   \n",
      "2       Hannah Lee       hannahlee@example.com  1234@Bcd  user  42   \n",
      "3   Luke Skywalker   lukeskywalker@example.com  1234@Bcd  user  24   \n",
      "4      Uma Thurman      umathurman@example.com  1234@Bcd  user  56   \n",
      "\n",
      "                  title                                       description  \\\n",
      "0      Machine Learning                  Learn the basics of programming.   \n",
      "1       Data Structures                    Build modern web applications.   \n",
      "2       Cloud Computing                   Dive deep into data structures.   \n",
      "3  Intro to Programming                   Dive deep into data structures.   \n",
      "4       Cloud Computing  Understand the fundamentals of Machine Learning.   \n",
      "\n",
      "   duration    difficulty  rating            domain  \n",
      "0        42      beginner     1.6   Cloud Computing  \n",
      "1        93      beginner     4.7   Cloud Computing  \n",
      "2        30  intermediate     1.8      Data Science  \n",
      "3        77      advanced     2.1  Computer Science  \n",
      "4        82  intermediate     1.7  Computer Science  \n",
      "   id_x  user_id_x  enrollment_id  score grade  progress  certificate_earned  \\\n",
      "0     1         39             15     73     D        24               False   \n",
      "1     2         80             92     60     A        92                True   \n",
      "2     3         48             44     68     D         2                True   \n",
      "3     4         43             72     61     B        34               False   \n",
      "4     5         10              3     57     B        66               False   \n",
      "\n",
      "   id_y  user_id_y  course_id enrollment_date completion_date  \n",
      "0    15         46         37      2024-06-14      Incomplete  \n",
      "1    92        100         58      2024-09-07      Incomplete  \n",
      "2    44         79         41      2023-10-19      2023-11-05  \n",
      "3    72         52         51      2024-05-31      2024-07-27  \n",
      "4     3         89         47      2024-08-14      2025-01-25  \n"
     ]
    }
   ],
   "source": [
    "# Join enrollments with users and courses\n",
    "enriched_enrollments = pd.merge(enrollment_df, users_df, left_on='user_id', right_on='id', how='inner')\n",
    "enriched_enrollments = pd.merge(enriched_enrollments, courses_df, left_on='course_id', right_on='id', how='inner')\n",
    "\n",
    "# Join performance with enrollments\n",
    "performance_enriched = pd.merge(performance_df, enrollment_df, left_on='enrollment_id', right_on='id', how='inner')\n",
    "\n",
    "# Preview the joined data\n",
    "print(enriched_enrollments.head())\n",
    "print(performance_enriched.head())\n"
   ]
  },
  {
   "cell_type": "code",
   "execution_count": 6,
   "metadata": {},
   "outputs": [
    {
     "name": "stdout",
     "output_type": "stream",
     "text": [
      "Completion Rate: 39.58%\n",
      "Certificate Earning Rate: 52.00%\n"
     ]
    }
   ],
   "source": [
    "# Example: Calculate completion rate\n",
    "total_enrollments = enriched_enrollments.shape[0]\n",
    "completed_courses = enriched_enrollments[enriched_enrollments['completion_date'] != 'Incomplete'].shape[0]\n",
    "completion_rate = (completed_courses / total_enrollments) * 100\n",
    "\n",
    "# Example: Calculate certificate percentage in performance data\n",
    "certificate_rate = (performance_enriched['certificate_earned'].sum() / performance_enriched.shape[0]) * 100\n",
    "\n",
    "print(f\"Completion Rate: {completion_rate:.2f}%\")\n",
    "print(f\"Certificate Earning Rate: {certificate_rate:.2f}%\")\n"
   ]
  },
  {
   "cell_type": "markdown",
   "metadata": {},
   "source": [
    "# Reporting"
   ]
  },
  {
   "cell_type": "code",
   "execution_count": null,
   "metadata": {},
   "outputs": [],
   "source": [
    "%pip install matplotlib seaborn"
   ]
  },
  {
   "cell_type": "code",
   "execution_count": null,
   "metadata": {},
   "outputs": [],
   "source": [
    "import matplotlib.pyplot as plt\n",
    "import seaborn as sns\n",
    "\n",
    "# Count completed courses per user\n",
    "user_completion = enriched_enrollments.groupby('user_id').apply(lambda x: (x['completion_date'] != 'Incomplete').sum())\n",
    "\n",
    "# Bar plot for user completion rates\n",
    "plt.figure(figsize=(10, 6))\n",
    "sns.barplot(x=user_completion.index, y=user_completion.values)\n",
    "plt.title('Course Completion Count by User')\n",
    "plt.xlabel('User ID')\n",
    "plt.ylabel('Number of Completed Courses')\n",
    "plt.xticks(rotation=45)\n",
    "plt.tight_layout()\n",
    "plt.show()\n"
   ]
  },
  {
   "cell_type": "code",
   "execution_count": null,
   "metadata": {},
   "outputs": [],
   "source": [
    "# Merge performance with learning paths\n",
    "performance_with_paths = pd.merge(performance_enriched, learning_paths_df, left_on='course_id', right_on='id')\n",
    "\n",
    "# Calculate average score by learning path\n",
    "average_score_by_path = performance_with_paths.groupby('title')['score'].mean()\n",
    "\n",
    "# Bar plot for average score by learning path\n",
    "plt.figure(figsize=(12, 6))\n",
    "sns.barplot(x=average_score_by_path.index, y=average_score_by_path.values)\n",
    "plt.title('Average Score by Learning Path')\n",
    "plt.xlabel('Learning Path')\n",
    "plt.ylabel('Average Score')\n",
    "plt.xticks(rotation=90)\n",
    "plt.tight_layout()\n",
    "plt.show()\n"
   ]
  },
  {
   "cell_type": "code",
   "execution_count": null,
   "metadata": {},
   "outputs": [],
   "source": [
    "# Count number of enrollments per learning path\n",
    "path_enrollments = enriched_enrollments.groupby('title').size()\n",
    "\n",
    "# Pie chart for learning path popularity\n",
    "plt.figure(figsize=(8, 8))\n",
    "plt.pie(path_enrollments, labels=path_enrollments.index, autopct='%1.1f%%', startangle=140)\n",
    "plt.title('Popularity of Learning Paths (Enrollments)')\n",
    "plt.tight_layout()\n",
    "plt.show()\n"
   ]
  },
  {
   "cell_type": "code",
   "execution_count": null,
   "metadata": {},
   "outputs": [],
   "source": [
    "# Calculate average score by user\n",
    "average_score_by_user = performance_enriched.groupby('user_id')['score'].mean().sort_values(ascending=False)\n",
    "\n",
    "# Get top 5 users\n",
    "top_5_users = average_score_by_user.head(5)\n",
    "\n",
    "print(\"Top 5 Users by Average Score:\")\n",
    "print(top_5_users)\n",
    "\n",
    "# Bar plot for top 5 users\n",
    "plt.figure(figsize=(8, 6))\n",
    "sns.barplot(x=top_5_users.index, y=top_5_users.values)\n",
    "plt.title('Top 5 Users by Average Score')\n",
    "plt.xlabel('User ID')\n",
    "plt.ylabel('Average Score')\n",
    "plt.tight_layout()\n",
    "plt.show()\n"
   ]
  },
  {
   "cell_type": "code",
   "execution_count": null,
   "metadata": {},
   "outputs": [],
   "source": [
    "# Count of certificate earned vs not earned\n",
    "certificate_earned_count = performance_df['certificate_earned'].value_counts()\n",
    "\n",
    "# Pie chart for certificates earned vs not earned\n",
    "plt.figure(figsize=(8, 8))\n",
    "plt.pie(certificate_earned_count, labels=['Earned', 'Not Earned'], autopct='%1.1f%%', startangle=140)\n",
    "plt.title('Certificate Earned vs Not Earned')\n",
    "plt.tight_layout()\n",
    "plt.show()\n"
   ]
  },
  {
   "cell_type": "code",
   "execution_count": null,
   "metadata": {},
   "outputs": [],
   "source": [
    "# Group by domain and calculate average duration\n",
    "average_duration_by_domain = courses_df.groupby('domain')['duration'].mean()\n",
    "\n",
    "# Bar plot for average duration by domain\n",
    "plt.figure(figsize=(12, 6))\n",
    "sns.barplot(x=average_duration_by_domain.index, y=average_duration_by_domain.values)\n",
    "plt.title('Average Course Duration by Domain')\n",
    "plt.xlabel('Domain')\n",
    "plt.ylabel('Average Duration (hours)')\n",
    "plt.xticks(rotation=90)\n",
    "plt.tight_layout()\n",
    "plt.show()\n"
   ]
  },
  {
   "cell_type": "code",
   "execution_count": null,
   "metadata": {},
   "outputs": [],
   "source": [
    "# Scatter plot of progress vs. score\n",
    "plt.figure(figsize=(10, 6))\n",
    "sns.scatterplot(data=performance_df, x='progress', y='score', hue='certificate_earned')\n",
    "plt.title('Course Progress vs Score')\n",
    "plt.xlabel('Progress (%)')\n",
    "plt.ylabel('Score')\n",
    "plt.legend(title='Certificate Earned', loc='upper left')\n",
    "plt.tight_layout()\n",
    "plt.show()\n"
   ]
  },
  {
   "cell_type": "code",
   "execution_count": null,
   "metadata": {},
   "outputs": [],
   "source": [
    "# Count of enrollments per course\n",
    "enrollment_count = enriched_enrollments.groupby('course_id').size()\n",
    "\n",
    "# Merge with course titles for better visualization\n",
    "course_enrollment = pd.merge(enrollment_count, courses_df[['id', 'title']], left_on='course_id', right_on='id')\n",
    "\n",
    "# Bar plot for course enrollments\n",
    "plt.figure(figsize=(12, 6))\n",
    "sns.barplot(x=course_enrollment['title'], y=course_enrollment[0])\n",
    "plt.title('Course Popularity by Enrollments')\n",
    "plt.xlabel('Course Title')\n",
    "plt.ylabel('Number of Enrollments')\n",
    "plt.xticks(rotation=90)\n",
    "plt.tight_layout()\n",
    "plt.show()\n"
   ]
  },
  {
   "cell_type": "code",
   "execution_count": null,
   "metadata": {},
   "outputs": [],
   "source": [
    "# Merge performance data with course data to get difficulty level\n",
    "performance_with_difficulty = pd.merge(performance_df, courses_df[['id', 'difficulty']], left_on='course_id', right_on='id')\n",
    "\n",
    "# Calculate average score by difficulty level\n",
    "average_score_by_difficulty = performance_with_difficulty.groupby('difficulty')['score'].mean()\n",
    "\n",
    "# Bar plot for average score by difficulty level\n",
    "plt.figure(figsize=(8, 6))\n",
    "sns.barplot(x=average_score_by_difficulty.index, y=average_score_by_difficulty.values)\n",
    "plt.title('Average Score by Course Difficulty')\n",
    "plt.xlabel('Difficulty Level')\n",
    "plt.ylabel('Average Score')\n",
    "plt.tight_layout()\n",
    "plt.show()\n"
   ]
  },
  {
   "cell_type": "code",
   "execution_count": null,
   "metadata": {},
   "outputs": [],
   "source": [
    "# Convert enrollment date to datetime if necessary\n",
    "enriched_enrollments['enrollment_date'] = pd.to_datetime(enriched_enrollments['enrollment_date'])\n",
    "\n",
    "# Group by month or year to analyze trends\n",
    "enrollments_over_time = enriched_enrollments.groupby(enriched_enrollments['enrollment_date'].dt.to_period('M')).size()\n",
    "\n",
    "# Line plot for enrollments over time\n",
    "plt.figure(figsize=(10, 6))\n",
    "enrollments_over_time.plot(kind='line')\n",
    "plt.title('User Enrollments Over Time')\n",
    "plt.xlabel('Date')\n",
    "plt.ylabel('Number of Enrollments')\n",
    "plt.tight_layout()\n",
    "plt.show()\n"
   ]
  },
  {
   "cell_type": "code",
   "execution_count": null,
   "metadata": {},
   "outputs": [],
   "source": []
  }
 ],
 "metadata": {
  "kernelspec": {
   "display_name": "Python 3",
   "language": "python",
   "name": "python3"
  },
  "language_info": {
   "codemirror_mode": {
    "name": "ipython",
    "version": 3
   },
   "file_extension": ".py",
   "mimetype": "text/x-python",
   "name": "python",
   "nbconvert_exporter": "python",
   "pygments_lexer": "ipython3",
   "version": "3.12.5"
  }
 },
 "nbformat": 4,
 "nbformat_minor": 2
}
